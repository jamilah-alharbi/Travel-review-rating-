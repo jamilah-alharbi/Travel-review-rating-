{
 "cells": [
  {
   "cell_type": "markdown",
   "id": "a9fa67d0",
   "metadata": {},
   "source": [
    "# data cleaning \n",
    "\n",
    "after show the data we decide to\n",
    "\n",
    "1-renamed columns\n",
    "2-convert object type to float type \n",
    "3-droped the null values \n",
    "4-dropped unnassery rows that can not convert to float type \n"
   ]
  },
  {
   "cell_type": "code",
   "execution_count": 76,
   "id": "9e088502",
   "metadata": {},
   "outputs": [],
   "source": [
    "import pandas as pd \n",
    "import numpy as np\n",
    "\n",
    "%matplotlib inline \n",
    "import matplotlib.pyplot as plt\n",
    "import matplotlib.pylab as pylab\n",
    "import seaborn as sns\n",
    "\n",
    "%matplotlib inline \n",
    "\n",
    "#set visualization settings\n",
    "large = 30; med = 14; small = 12\n",
    "params = {'axes.titlesize': large,\n",
    "          'legend.fontsize': med,\n",
    "          'figure.figsize': (20, 10),\n",
    "          'axes.labelsize': med,\n",
    "          'axes.titlesize': med,\n",
    "          'xtick.labelsize': med,\n",
    "          'ytick.labelsize': med,\n",
    "          'figure.titlesize': large}\n",
    "plt.rcParams.update(params)\n",
    "plt.style.use('seaborn-whitegrid')\n",
    "sns.set_style(\"white\")"
   ]
  },
  {
   "cell_type": "code",
   "execution_count": 77,
   "id": "525c801c",
   "metadata": {},
   "outputs": [],
   "source": [
    "df = pd.read_csv('trip_review.csv')"
   ]
  },
  {
   "cell_type": "code",
   "execution_count": 78,
   "id": "62d0ac9f",
   "metadata": {},
   "outputs": [
    {
     "data": {
      "text/html": [
       "<div>\n",
       "<style scoped>\n",
       "    .dataframe tbody tr th:only-of-type {\n",
       "        vertical-align: middle;\n",
       "    }\n",
       "\n",
       "    .dataframe tbody tr th {\n",
       "        vertical-align: top;\n",
       "    }\n",
       "\n",
       "    .dataframe thead th {\n",
       "        text-align: right;\n",
       "    }\n",
       "</style>\n",
       "<table border=\"1\" class=\"dataframe\">\n",
       "  <thead>\n",
       "    <tr style=\"text-align: right;\">\n",
       "      <th></th>\n",
       "      <th>User</th>\n",
       "      <th>Category 1</th>\n",
       "      <th>Category 2</th>\n",
       "      <th>Category 3</th>\n",
       "      <th>Category 4</th>\n",
       "      <th>Category 5</th>\n",
       "      <th>Category 6</th>\n",
       "      <th>Category 7</th>\n",
       "      <th>Category 8</th>\n",
       "      <th>Category 9</th>\n",
       "      <th>Category 10</th>\n",
       "      <th>Category 11</th>\n",
       "      <th>Category 12</th>\n",
       "      <th>Category 13</th>\n",
       "      <th>Category 14</th>\n",
       "      <th>Category 15</th>\n",
       "      <th>Category 16</th>\n",
       "      <th>Category 17</th>\n",
       "      <th>Category 18</th>\n",
       "      <th>Category 19</th>\n",
       "      <th>Category 20</th>\n",
       "      <th>Category 21</th>\n",
       "      <th>Category 22</th>\n",
       "      <th>Category 23</th>\n",
       "      <th>Category 24</th>\n",
       "      <th>Unnamed: 25</th>\n",
       "    </tr>\n",
       "  </thead>\n",
       "  <tbody>\n",
       "    <tr>\n",
       "      <th>0</th>\n",
       "      <td>User 1</td>\n",
       "      <td>0.0</td>\n",
       "      <td>0.0</td>\n",
       "      <td>3.63</td>\n",
       "      <td>3.65</td>\n",
       "      <td>5.0</td>\n",
       "      <td>2.92</td>\n",
       "      <td>5.0</td>\n",
       "      <td>2.35</td>\n",
       "      <td>2.33</td>\n",
       "      <td>2.64</td>\n",
       "      <td>1.7</td>\n",
       "      <td>1.69</td>\n",
       "      <td>1.7</td>\n",
       "      <td>1.72</td>\n",
       "      <td>1.74</td>\n",
       "      <td>0.59</td>\n",
       "      <td>0.5</td>\n",
       "      <td>0.0</td>\n",
       "      <td>0.5</td>\n",
       "      <td>0.0</td>\n",
       "      <td>0.0</td>\n",
       "      <td>0.0</td>\n",
       "      <td>0.0</td>\n",
       "      <td>0.0</td>\n",
       "      <td>NaN</td>\n",
       "    </tr>\n",
       "    <tr>\n",
       "      <th>1</th>\n",
       "      <td>User 2</td>\n",
       "      <td>0.0</td>\n",
       "      <td>0.0</td>\n",
       "      <td>3.63</td>\n",
       "      <td>3.65</td>\n",
       "      <td>5.0</td>\n",
       "      <td>2.92</td>\n",
       "      <td>5.0</td>\n",
       "      <td>2.64</td>\n",
       "      <td>2.33</td>\n",
       "      <td>2.65</td>\n",
       "      <td>1.7</td>\n",
       "      <td>1.69</td>\n",
       "      <td>1.7</td>\n",
       "      <td>1.72</td>\n",
       "      <td>1.74</td>\n",
       "      <td>0.59</td>\n",
       "      <td>0.5</td>\n",
       "      <td>0.0</td>\n",
       "      <td>0.5</td>\n",
       "      <td>0.0</td>\n",
       "      <td>0.0</td>\n",
       "      <td>0.0</td>\n",
       "      <td>0.0</td>\n",
       "      <td>0.0</td>\n",
       "      <td>NaN</td>\n",
       "    </tr>\n",
       "    <tr>\n",
       "      <th>2</th>\n",
       "      <td>User 3</td>\n",
       "      <td>0.0</td>\n",
       "      <td>0.0</td>\n",
       "      <td>3.63</td>\n",
       "      <td>3.63</td>\n",
       "      <td>5.0</td>\n",
       "      <td>2.92</td>\n",
       "      <td>5.0</td>\n",
       "      <td>2.64</td>\n",
       "      <td>2.33</td>\n",
       "      <td>2.64</td>\n",
       "      <td>1.7</td>\n",
       "      <td>1.69</td>\n",
       "      <td>1.7</td>\n",
       "      <td>1.72</td>\n",
       "      <td>1.74</td>\n",
       "      <td>0.59</td>\n",
       "      <td>0.5</td>\n",
       "      <td>0.0</td>\n",
       "      <td>0.5</td>\n",
       "      <td>0.0</td>\n",
       "      <td>0.0</td>\n",
       "      <td>0.0</td>\n",
       "      <td>0.0</td>\n",
       "      <td>0.0</td>\n",
       "      <td>NaN</td>\n",
       "    </tr>\n",
       "    <tr>\n",
       "      <th>3</th>\n",
       "      <td>User 4</td>\n",
       "      <td>0.0</td>\n",
       "      <td>0.5</td>\n",
       "      <td>3.63</td>\n",
       "      <td>3.63</td>\n",
       "      <td>5.0</td>\n",
       "      <td>2.92</td>\n",
       "      <td>5.0</td>\n",
       "      <td>2.35</td>\n",
       "      <td>2.33</td>\n",
       "      <td>2.64</td>\n",
       "      <td>1.73</td>\n",
       "      <td>1.69</td>\n",
       "      <td>1.7</td>\n",
       "      <td>1.72</td>\n",
       "      <td>1.74</td>\n",
       "      <td>0.59</td>\n",
       "      <td>0.5</td>\n",
       "      <td>0.0</td>\n",
       "      <td>0.5</td>\n",
       "      <td>0.0</td>\n",
       "      <td>0.0</td>\n",
       "      <td>0.0</td>\n",
       "      <td>0.0</td>\n",
       "      <td>0.0</td>\n",
       "      <td>NaN</td>\n",
       "    </tr>\n",
       "    <tr>\n",
       "      <th>4</th>\n",
       "      <td>User 5</td>\n",
       "      <td>0.0</td>\n",
       "      <td>0.0</td>\n",
       "      <td>3.63</td>\n",
       "      <td>3.63</td>\n",
       "      <td>5.0</td>\n",
       "      <td>2.92</td>\n",
       "      <td>5.0</td>\n",
       "      <td>2.64</td>\n",
       "      <td>2.33</td>\n",
       "      <td>2.64</td>\n",
       "      <td>1.7</td>\n",
       "      <td>1.69</td>\n",
       "      <td>1.7</td>\n",
       "      <td>1.72</td>\n",
       "      <td>1.74</td>\n",
       "      <td>0.59</td>\n",
       "      <td>0.5</td>\n",
       "      <td>0.0</td>\n",
       "      <td>0.5</td>\n",
       "      <td>0.0</td>\n",
       "      <td>0.0</td>\n",
       "      <td>0.0</td>\n",
       "      <td>0.0</td>\n",
       "      <td>0.0</td>\n",
       "      <td>NaN</td>\n",
       "    </tr>\n",
       "  </tbody>\n",
       "</table>\n",
       "</div>"
      ],
      "text/plain": [
       "     User  Category 1  Category 2  Category 3  Category 4  Category 5  \\\n",
       "0  User 1         0.0         0.0        3.63        3.65         5.0   \n",
       "1  User 2         0.0         0.0        3.63        3.65         5.0   \n",
       "2  User 3         0.0         0.0        3.63        3.63         5.0   \n",
       "3  User 4         0.0         0.5        3.63        3.63         5.0   \n",
       "4  User 5         0.0         0.0        3.63        3.63         5.0   \n",
       "\n",
       "   Category 6  Category 7  Category 8  Category 9  Category 10 Category 11  \\\n",
       "0        2.92         5.0        2.35        2.33         2.64         1.7   \n",
       "1        2.92         5.0        2.64        2.33         2.65         1.7   \n",
       "2        2.92         5.0        2.64        2.33         2.64         1.7   \n",
       "3        2.92         5.0        2.35        2.33         2.64        1.73   \n",
       "4        2.92         5.0        2.64        2.33         2.64         1.7   \n",
       "\n",
       "   Category 12  Category 13  Category 14  Category 15  Category 16  \\\n",
       "0         1.69          1.7         1.72         1.74         0.59   \n",
       "1         1.69          1.7         1.72         1.74         0.59   \n",
       "2         1.69          1.7         1.72         1.74         0.59   \n",
       "3         1.69          1.7         1.72         1.74         0.59   \n",
       "4         1.69          1.7         1.72         1.74         0.59   \n",
       "\n",
       "   Category 17  Category 18  Category 19  Category 20  Category 21  \\\n",
       "0          0.5          0.0          0.5          0.0          0.0   \n",
       "1          0.5          0.0          0.5          0.0          0.0   \n",
       "2          0.5          0.0          0.5          0.0          0.0   \n",
       "3          0.5          0.0          0.5          0.0          0.0   \n",
       "4          0.5          0.0          0.5          0.0          0.0   \n",
       "\n",
       "   Category 22  Category 23  Category 24  Unnamed: 25  \n",
       "0          0.0          0.0          0.0          NaN  \n",
       "1          0.0          0.0          0.0          NaN  \n",
       "2          0.0          0.0          0.0          NaN  \n",
       "3          0.0          0.0          0.0          NaN  \n",
       "4          0.0          0.0          0.0          NaN  "
      ]
     },
     "execution_count": 78,
     "metadata": {},
     "output_type": "execute_result"
    }
   ],
   "source": [
    "df.head()"
   ]
  },
  {
   "cell_type": "code",
   "execution_count": 79,
   "id": "6a018ff7",
   "metadata": {},
   "outputs": [
    {
     "name": "stdout",
     "output_type": "stream",
     "text": [
      "<class 'pandas.core.frame.DataFrame'>\n",
      "RangeIndex: 5456 entries, 0 to 5455\n",
      "Data columns (total 26 columns):\n",
      " #   Column       Non-Null Count  Dtype  \n",
      "---  ------       --------------  -----  \n",
      " 0   User         5456 non-null   object \n",
      " 1   Category 1   5456 non-null   float64\n",
      " 2   Category 2   5456 non-null   float64\n",
      " 3   Category 3   5456 non-null   float64\n",
      " 4   Category 4   5456 non-null   float64\n",
      " 5   Category 5   5456 non-null   float64\n",
      " 6   Category 6   5456 non-null   float64\n",
      " 7   Category 7   5456 non-null   float64\n",
      " 8   Category 8   5456 non-null   float64\n",
      " 9   Category 9   5456 non-null   float64\n",
      " 10  Category 10  5456 non-null   float64\n",
      " 11  Category 11  5456 non-null   object \n",
      " 12  Category 12  5455 non-null   float64\n",
      " 13  Category 13  5456 non-null   float64\n",
      " 14  Category 14  5456 non-null   float64\n",
      " 15  Category 15  5456 non-null   float64\n",
      " 16  Category 16  5456 non-null   float64\n",
      " 17  Category 17  5456 non-null   float64\n",
      " 18  Category 18  5456 non-null   float64\n",
      " 19  Category 19  5456 non-null   float64\n",
      " 20  Category 20  5456 non-null   float64\n",
      " 21  Category 21  5456 non-null   float64\n",
      " 22  Category 22  5456 non-null   float64\n",
      " 23  Category 23  5456 non-null   float64\n",
      " 24  Category 24  5455 non-null   float64\n",
      " 25  Unnamed: 25  2 non-null      float64\n",
      "dtypes: float64(24), object(2)\n",
      "memory usage: 1.1+ MB\n"
     ]
    }
   ],
   "source": [
    "df.info()"
   ]
  },
  {
   "cell_type": "code",
   "execution_count": 80,
   "id": "4a6ff08a",
   "metadata": {},
   "outputs": [],
   "source": [
    "column_names = ['user_id', 'churches', 'resorts', 'beaches',\n",
    "                'parks', 'theatres', 'museums', 'malls', 'zoo',\n",
    "                'restaurants', 'pubs_bars', 'local_services',\n",
    "                'burger_pizza_shops', 'hotels_other_lodgings',\n",
    "                'juice_bars', 'art_galleries', 'dance_clubs',\n",
    "                 'swimming_pools', 'gyms', 'bakeries', 'beauty_spas',\n",
    "                'cafes', 'view_points', 'monuments', 'gardens', 'Unnamed: 25']\n",
    "\n",
    "df.columns = column_names"
   ]
  },
  {
   "cell_type": "code",
   "execution_count": 81,
   "id": "9be58c8e",
   "metadata": {},
   "outputs": [
    {
     "data": {
      "text/plain": [
       "Index(['user_id', 'churches', 'resorts', 'beaches', 'parks', 'theatres',\n",
       "       'museums', 'malls', 'zoo', 'restaurants', 'pubs_bars', 'local_services',\n",
       "       'burger_pizza_shops', 'hotels_other_lodgings', 'juice_bars',\n",
       "       'art_galleries', 'dance_clubs', 'swimming_pools', 'gyms', 'bakeries',\n",
       "       'beauty_spas', 'cafes', 'view_points', 'monuments', 'gardens',\n",
       "       'Unnamed: 25'],\n",
       "      dtype='object')"
      ]
     },
     "execution_count": 81,
     "metadata": {},
     "output_type": "execute_result"
    }
   ],
   "source": [
    "df.columns"
   ]
  },
  {
   "cell_type": "code",
   "execution_count": 82,
   "id": "4b9e9123",
   "metadata": {},
   "outputs": [
    {
     "data": {
      "text/html": [
       "<div>\n",
       "<style scoped>\n",
       "    .dataframe tbody tr th:only-of-type {\n",
       "        vertical-align: middle;\n",
       "    }\n",
       "\n",
       "    .dataframe tbody tr th {\n",
       "        vertical-align: top;\n",
       "    }\n",
       "\n",
       "    .dataframe thead th {\n",
       "        text-align: right;\n",
       "    }\n",
       "</style>\n",
       "<table border=\"1\" class=\"dataframe\">\n",
       "  <thead>\n",
       "    <tr style=\"text-align: right;\">\n",
       "      <th></th>\n",
       "      <th>churches</th>\n",
       "      <th>resorts</th>\n",
       "      <th>beaches</th>\n",
       "      <th>parks</th>\n",
       "      <th>theatres</th>\n",
       "      <th>museums</th>\n",
       "      <th>malls</th>\n",
       "      <th>zoo</th>\n",
       "      <th>restaurants</th>\n",
       "      <th>pubs_bars</th>\n",
       "      <th>burger_pizza_shops</th>\n",
       "      <th>hotels_other_lodgings</th>\n",
       "      <th>juice_bars</th>\n",
       "      <th>art_galleries</th>\n",
       "      <th>dance_clubs</th>\n",
       "      <th>swimming_pools</th>\n",
       "      <th>gyms</th>\n",
       "      <th>bakeries</th>\n",
       "      <th>beauty_spas</th>\n",
       "      <th>cafes</th>\n",
       "      <th>view_points</th>\n",
       "      <th>monuments</th>\n",
       "      <th>gardens</th>\n",
       "      <th>Unnamed: 25</th>\n",
       "    </tr>\n",
       "  </thead>\n",
       "  <tbody>\n",
       "    <tr>\n",
       "      <th>count</th>\n",
       "      <td>5456.000000</td>\n",
       "      <td>5456.000000</td>\n",
       "      <td>5456.000000</td>\n",
       "      <td>5456.000000</td>\n",
       "      <td>5456.000000</td>\n",
       "      <td>5456.00000</td>\n",
       "      <td>5456.000000</td>\n",
       "      <td>5456.000000</td>\n",
       "      <td>5456.000000</td>\n",
       "      <td>5456.000000</td>\n",
       "      <td>5455.000000</td>\n",
       "      <td>5456.000000</td>\n",
       "      <td>5456.000000</td>\n",
       "      <td>5456.000000</td>\n",
       "      <td>5456.000000</td>\n",
       "      <td>5456.000000</td>\n",
       "      <td>5456.000000</td>\n",
       "      <td>5456.000000</td>\n",
       "      <td>5456.000000</td>\n",
       "      <td>5456.000000</td>\n",
       "      <td>5456.000000</td>\n",
       "      <td>5456.000000</td>\n",
       "      <td>5455.000000</td>\n",
       "      <td>2.000000</td>\n",
       "    </tr>\n",
       "    <tr>\n",
       "      <th>mean</th>\n",
       "      <td>1.455720</td>\n",
       "      <td>2.319707</td>\n",
       "      <td>2.489331</td>\n",
       "      <td>2.796886</td>\n",
       "      <td>2.958941</td>\n",
       "      <td>2.89349</td>\n",
       "      <td>3.351395</td>\n",
       "      <td>2.540795</td>\n",
       "      <td>3.126019</td>\n",
       "      <td>2.832729</td>\n",
       "      <td>2.078339</td>\n",
       "      <td>2.125511</td>\n",
       "      <td>2.190861</td>\n",
       "      <td>2.206573</td>\n",
       "      <td>1.192801</td>\n",
       "      <td>0.949203</td>\n",
       "      <td>0.822414</td>\n",
       "      <td>0.969811</td>\n",
       "      <td>1.000071</td>\n",
       "      <td>0.965838</td>\n",
       "      <td>1.750537</td>\n",
       "      <td>1.531453</td>\n",
       "      <td>1.560755</td>\n",
       "      <td>1.810000</td>\n",
       "    </tr>\n",
       "    <tr>\n",
       "      <th>std</th>\n",
       "      <td>0.827604</td>\n",
       "      <td>1.421438</td>\n",
       "      <td>1.247815</td>\n",
       "      <td>1.309159</td>\n",
       "      <td>1.339056</td>\n",
       "      <td>1.28240</td>\n",
       "      <td>1.413492</td>\n",
       "      <td>1.111391</td>\n",
       "      <td>1.356802</td>\n",
       "      <td>1.307665</td>\n",
       "      <td>1.249208</td>\n",
       "      <td>1.406542</td>\n",
       "      <td>1.576686</td>\n",
       "      <td>1.715961</td>\n",
       "      <td>1.107005</td>\n",
       "      <td>0.973536</td>\n",
       "      <td>0.947911</td>\n",
       "      <td>1.203972</td>\n",
       "      <td>1.193891</td>\n",
       "      <td>0.929853</td>\n",
       "      <td>1.598734</td>\n",
       "      <td>1.316889</td>\n",
       "      <td>1.171756</td>\n",
       "      <td>1.088944</td>\n",
       "    </tr>\n",
       "    <tr>\n",
       "      <th>min</th>\n",
       "      <td>0.000000</td>\n",
       "      <td>0.000000</td>\n",
       "      <td>0.000000</td>\n",
       "      <td>0.830000</td>\n",
       "      <td>1.120000</td>\n",
       "      <td>1.11000</td>\n",
       "      <td>1.120000</td>\n",
       "      <td>0.860000</td>\n",
       "      <td>0.840000</td>\n",
       "      <td>0.810000</td>\n",
       "      <td>0.780000</td>\n",
       "      <td>0.770000</td>\n",
       "      <td>0.760000</td>\n",
       "      <td>0.000000</td>\n",
       "      <td>0.000000</td>\n",
       "      <td>0.000000</td>\n",
       "      <td>0.000000</td>\n",
       "      <td>0.000000</td>\n",
       "      <td>0.000000</td>\n",
       "      <td>0.000000</td>\n",
       "      <td>0.000000</td>\n",
       "      <td>0.000000</td>\n",
       "      <td>0.000000</td>\n",
       "      <td>1.040000</td>\n",
       "    </tr>\n",
       "    <tr>\n",
       "      <th>25%</th>\n",
       "      <td>0.920000</td>\n",
       "      <td>1.360000</td>\n",
       "      <td>1.540000</td>\n",
       "      <td>1.730000</td>\n",
       "      <td>1.770000</td>\n",
       "      <td>1.79000</td>\n",
       "      <td>1.930000</td>\n",
       "      <td>1.620000</td>\n",
       "      <td>1.800000</td>\n",
       "      <td>1.640000</td>\n",
       "      <td>1.290000</td>\n",
       "      <td>1.190000</td>\n",
       "      <td>1.030000</td>\n",
       "      <td>0.860000</td>\n",
       "      <td>0.690000</td>\n",
       "      <td>0.580000</td>\n",
       "      <td>0.530000</td>\n",
       "      <td>0.520000</td>\n",
       "      <td>0.540000</td>\n",
       "      <td>0.570000</td>\n",
       "      <td>0.740000</td>\n",
       "      <td>0.790000</td>\n",
       "      <td>0.880000</td>\n",
       "      <td>1.425000</td>\n",
       "    </tr>\n",
       "    <tr>\n",
       "      <th>50%</th>\n",
       "      <td>1.340000</td>\n",
       "      <td>1.905000</td>\n",
       "      <td>2.060000</td>\n",
       "      <td>2.460000</td>\n",
       "      <td>2.670000</td>\n",
       "      <td>2.68000</td>\n",
       "      <td>3.230000</td>\n",
       "      <td>2.170000</td>\n",
       "      <td>2.800000</td>\n",
       "      <td>2.680000</td>\n",
       "      <td>1.690000</td>\n",
       "      <td>1.610000</td>\n",
       "      <td>1.490000</td>\n",
       "      <td>1.330000</td>\n",
       "      <td>0.800000</td>\n",
       "      <td>0.740000</td>\n",
       "      <td>0.690000</td>\n",
       "      <td>0.690000</td>\n",
       "      <td>0.690000</td>\n",
       "      <td>0.760000</td>\n",
       "      <td>1.030000</td>\n",
       "      <td>1.070000</td>\n",
       "      <td>1.290000</td>\n",
       "      <td>1.810000</td>\n",
       "    </tr>\n",
       "    <tr>\n",
       "      <th>75%</th>\n",
       "      <td>1.810000</td>\n",
       "      <td>2.682500</td>\n",
       "      <td>2.740000</td>\n",
       "      <td>4.092500</td>\n",
       "      <td>4.312500</td>\n",
       "      <td>3.84000</td>\n",
       "      <td>5.000000</td>\n",
       "      <td>3.190000</td>\n",
       "      <td>5.000000</td>\n",
       "      <td>3.530000</td>\n",
       "      <td>2.285000</td>\n",
       "      <td>2.360000</td>\n",
       "      <td>2.740000</td>\n",
       "      <td>4.440000</td>\n",
       "      <td>1.160000</td>\n",
       "      <td>0.910000</td>\n",
       "      <td>0.840000</td>\n",
       "      <td>0.860000</td>\n",
       "      <td>0.860000</td>\n",
       "      <td>1.000000</td>\n",
       "      <td>2.070000</td>\n",
       "      <td>1.560000</td>\n",
       "      <td>1.660000</td>\n",
       "      <td>2.195000</td>\n",
       "    </tr>\n",
       "    <tr>\n",
       "      <th>max</th>\n",
       "      <td>5.000000</td>\n",
       "      <td>5.000000</td>\n",
       "      <td>5.000000</td>\n",
       "      <td>5.000000</td>\n",
       "      <td>5.000000</td>\n",
       "      <td>5.00000</td>\n",
       "      <td>5.000000</td>\n",
       "      <td>5.000000</td>\n",
       "      <td>5.000000</td>\n",
       "      <td>5.000000</td>\n",
       "      <td>5.000000</td>\n",
       "      <td>5.000000</td>\n",
       "      <td>5.000000</td>\n",
       "      <td>5.000000</td>\n",
       "      <td>5.000000</td>\n",
       "      <td>5.000000</td>\n",
       "      <td>5.000000</td>\n",
       "      <td>5.000000</td>\n",
       "      <td>5.000000</td>\n",
       "      <td>5.000000</td>\n",
       "      <td>5.000000</td>\n",
       "      <td>5.000000</td>\n",
       "      <td>5.000000</td>\n",
       "      <td>2.580000</td>\n",
       "    </tr>\n",
       "  </tbody>\n",
       "</table>\n",
       "</div>"
      ],
      "text/plain": [
       "          churches      resorts      beaches        parks     theatres  \\\n",
       "count  5456.000000  5456.000000  5456.000000  5456.000000  5456.000000   \n",
       "mean      1.455720     2.319707     2.489331     2.796886     2.958941   \n",
       "std       0.827604     1.421438     1.247815     1.309159     1.339056   \n",
       "min       0.000000     0.000000     0.000000     0.830000     1.120000   \n",
       "25%       0.920000     1.360000     1.540000     1.730000     1.770000   \n",
       "50%       1.340000     1.905000     2.060000     2.460000     2.670000   \n",
       "75%       1.810000     2.682500     2.740000     4.092500     4.312500   \n",
       "max       5.000000     5.000000     5.000000     5.000000     5.000000   \n",
       "\n",
       "          museums        malls          zoo  restaurants    pubs_bars  \\\n",
       "count  5456.00000  5456.000000  5456.000000  5456.000000  5456.000000   \n",
       "mean      2.89349     3.351395     2.540795     3.126019     2.832729   \n",
       "std       1.28240     1.413492     1.111391     1.356802     1.307665   \n",
       "min       1.11000     1.120000     0.860000     0.840000     0.810000   \n",
       "25%       1.79000     1.930000     1.620000     1.800000     1.640000   \n",
       "50%       2.68000     3.230000     2.170000     2.800000     2.680000   \n",
       "75%       3.84000     5.000000     3.190000     5.000000     3.530000   \n",
       "max       5.00000     5.000000     5.000000     5.000000     5.000000   \n",
       "\n",
       "       burger_pizza_shops  hotels_other_lodgings   juice_bars  art_galleries  \\\n",
       "count         5455.000000            5456.000000  5456.000000    5456.000000   \n",
       "mean             2.078339               2.125511     2.190861       2.206573   \n",
       "std              1.249208               1.406542     1.576686       1.715961   \n",
       "min              0.780000               0.770000     0.760000       0.000000   \n",
       "25%              1.290000               1.190000     1.030000       0.860000   \n",
       "50%              1.690000               1.610000     1.490000       1.330000   \n",
       "75%              2.285000               2.360000     2.740000       4.440000   \n",
       "max              5.000000               5.000000     5.000000       5.000000   \n",
       "\n",
       "       dance_clubs  swimming_pools         gyms     bakeries  beauty_spas  \\\n",
       "count  5456.000000     5456.000000  5456.000000  5456.000000  5456.000000   \n",
       "mean      1.192801        0.949203     0.822414     0.969811     1.000071   \n",
       "std       1.107005        0.973536     0.947911     1.203972     1.193891   \n",
       "min       0.000000        0.000000     0.000000     0.000000     0.000000   \n",
       "25%       0.690000        0.580000     0.530000     0.520000     0.540000   \n",
       "50%       0.800000        0.740000     0.690000     0.690000     0.690000   \n",
       "75%       1.160000        0.910000     0.840000     0.860000     0.860000   \n",
       "max       5.000000        5.000000     5.000000     5.000000     5.000000   \n",
       "\n",
       "             cafes  view_points    monuments      gardens  Unnamed: 25  \n",
       "count  5456.000000  5456.000000  5456.000000  5455.000000     2.000000  \n",
       "mean      0.965838     1.750537     1.531453     1.560755     1.810000  \n",
       "std       0.929853     1.598734     1.316889     1.171756     1.088944  \n",
       "min       0.000000     0.000000     0.000000     0.000000     1.040000  \n",
       "25%       0.570000     0.740000     0.790000     0.880000     1.425000  \n",
       "50%       0.760000     1.030000     1.070000     1.290000     1.810000  \n",
       "75%       1.000000     2.070000     1.560000     1.660000     2.195000  \n",
       "max       5.000000     5.000000     5.000000     5.000000     2.580000  "
      ]
     },
     "execution_count": 82,
     "metadata": {},
     "output_type": "execute_result"
    }
   ],
   "source": [
    "df.describe()"
   ]
  },
  {
   "cell_type": "code",
   "execution_count": 83,
   "id": "0c859e50",
   "metadata": {},
   "outputs": [],
   "source": [
    "df.drop('Unnamed: 25', axis = 1, inplace = True)\n"
   ]
  },
  {
   "cell_type": "code",
   "execution_count": 84,
   "id": "5810c58a",
   "metadata": {},
   "outputs": [],
   "source": [
    "df.drop('user_id', axis = 1, inplace = True)"
   ]
  },
  {
   "cell_type": "code",
   "execution_count": 85,
   "id": "ddcf1fc9",
   "metadata": {},
   "outputs": [
    {
     "name": "stdout",
     "output_type": "stream",
     "text": [
      "<class 'pandas.core.frame.DataFrame'>\n",
      "RangeIndex: 5456 entries, 0 to 5455\n",
      "Data columns (total 24 columns):\n",
      " #   Column                 Non-Null Count  Dtype  \n",
      "---  ------                 --------------  -----  \n",
      " 0   churches               5456 non-null   float64\n",
      " 1   resorts                5456 non-null   float64\n",
      " 2   beaches                5456 non-null   float64\n",
      " 3   parks                  5456 non-null   float64\n",
      " 4   theatres               5456 non-null   float64\n",
      " 5   museums                5456 non-null   float64\n",
      " 6   malls                  5456 non-null   float64\n",
      " 7   zoo                    5456 non-null   float64\n",
      " 8   restaurants            5456 non-null   float64\n",
      " 9   pubs_bars              5456 non-null   float64\n",
      " 10  local_services         5456 non-null   object \n",
      " 11  burger_pizza_shops     5455 non-null   float64\n",
      " 12  hotels_other_lodgings  5456 non-null   float64\n",
      " 13  juice_bars             5456 non-null   float64\n",
      " 14  art_galleries          5456 non-null   float64\n",
      " 15  dance_clubs            5456 non-null   float64\n",
      " 16  swimming_pools         5456 non-null   float64\n",
      " 17  gyms                   5456 non-null   float64\n",
      " 18  bakeries               5456 non-null   float64\n",
      " 19  beauty_spas            5456 non-null   float64\n",
      " 20  cafes                  5456 non-null   float64\n",
      " 21  view_points            5456 non-null   float64\n",
      " 22  monuments              5456 non-null   float64\n",
      " 23  gardens                5455 non-null   float64\n",
      "dtypes: float64(23), object(1)\n",
      "memory usage: 1023.1+ KB\n"
     ]
    }
   ],
   "source": [
    "df.info()"
   ]
  },
  {
   "cell_type": "code",
   "execution_count": 86,
   "id": "6bb726de",
   "metadata": {},
   "outputs": [
    {
     "ename": "ValueError",
     "evalue": "could not convert string to float: '2\\t2.'",
     "output_type": "error",
     "traceback": [
      "\u001b[0;31m---------------------------------------------------------------------------\u001b[0m",
      "\u001b[0;31mValueError\u001b[0m                                Traceback (most recent call last)",
      "\u001b[0;32m<ipython-input-86-992447411176>\u001b[0m in \u001b[0;36m<module>\u001b[0;34m\u001b[0m\n\u001b[0;32m----> 1\u001b[0;31m \u001b[0mdf\u001b[0m\u001b[0;34m[\u001b[0m\u001b[0;34m'local_services'\u001b[0m\u001b[0;34m]\u001b[0m\u001b[0;34m=\u001b[0m \u001b[0mdf\u001b[0m\u001b[0;34m.\u001b[0m\u001b[0mlocal_services\u001b[0m\u001b[0;34m.\u001b[0m\u001b[0mapply\u001b[0m\u001b[0;34m(\u001b[0m\u001b[0mfloat\u001b[0m\u001b[0;34m)\u001b[0m\u001b[0;34m\u001b[0m\u001b[0;34m\u001b[0m\u001b[0m\n\u001b[0m",
      "\u001b[0;32m/opt/anaconda3/lib/python3.8/site-packages/pandas/core/series.py\u001b[0m in \u001b[0;36mapply\u001b[0;34m(self, func, convert_dtype, args, **kwds)\u001b[0m\n\u001b[1;32m   4136\u001b[0m             \u001b[0;32melse\u001b[0m\u001b[0;34m:\u001b[0m\u001b[0;34m\u001b[0m\u001b[0;34m\u001b[0m\u001b[0m\n\u001b[1;32m   4137\u001b[0m                 \u001b[0mvalues\u001b[0m \u001b[0;34m=\u001b[0m \u001b[0mself\u001b[0m\u001b[0;34m.\u001b[0m\u001b[0mastype\u001b[0m\u001b[0;34m(\u001b[0m\u001b[0mobject\u001b[0m\u001b[0;34m)\u001b[0m\u001b[0;34m.\u001b[0m\u001b[0m_values\u001b[0m\u001b[0;34m\u001b[0m\u001b[0;34m\u001b[0m\u001b[0m\n\u001b[0;32m-> 4138\u001b[0;31m                 \u001b[0mmapped\u001b[0m \u001b[0;34m=\u001b[0m \u001b[0mlib\u001b[0m\u001b[0;34m.\u001b[0m\u001b[0mmap_infer\u001b[0m\u001b[0;34m(\u001b[0m\u001b[0mvalues\u001b[0m\u001b[0;34m,\u001b[0m \u001b[0mf\u001b[0m\u001b[0;34m,\u001b[0m \u001b[0mconvert\u001b[0m\u001b[0;34m=\u001b[0m\u001b[0mconvert_dtype\u001b[0m\u001b[0;34m)\u001b[0m\u001b[0;34m\u001b[0m\u001b[0;34m\u001b[0m\u001b[0m\n\u001b[0m\u001b[1;32m   4139\u001b[0m \u001b[0;34m\u001b[0m\u001b[0m\n\u001b[1;32m   4140\u001b[0m         \u001b[0;32mif\u001b[0m \u001b[0mlen\u001b[0m\u001b[0;34m(\u001b[0m\u001b[0mmapped\u001b[0m\u001b[0;34m)\u001b[0m \u001b[0;32mand\u001b[0m \u001b[0misinstance\u001b[0m\u001b[0;34m(\u001b[0m\u001b[0mmapped\u001b[0m\u001b[0;34m[\u001b[0m\u001b[0;36m0\u001b[0m\u001b[0;34m]\u001b[0m\u001b[0;34m,\u001b[0m \u001b[0mSeries\u001b[0m\u001b[0;34m)\u001b[0m\u001b[0;34m:\u001b[0m\u001b[0;34m\u001b[0m\u001b[0;34m\u001b[0m\u001b[0m\n",
      "\u001b[0;32mpandas/_libs/lib.pyx\u001b[0m in \u001b[0;36mpandas._libs.lib.map_infer\u001b[0;34m()\u001b[0m\n",
      "\u001b[0;31mValueError\u001b[0m: could not convert string to float: '2\\t2.'"
     ]
    }
   ],
   "source": [
    "df['local_services']= df.local_services.apply(float)"
   ]
  },
  {
   "cell_type": "markdown",
   "id": "899b5079",
   "metadata": {},
   "source": [
    "###### so we will pick up the rows that can not convert to float "
   ]
  },
  {
   "cell_type": "code",
   "execution_count": 87,
   "id": "38731609",
   "metadata": {},
   "outputs": [
    {
     "data": {
      "text/html": [
       "<div>\n",
       "<style scoped>\n",
       "    .dataframe tbody tr th:only-of-type {\n",
       "        vertical-align: middle;\n",
       "    }\n",
       "\n",
       "    .dataframe tbody tr th {\n",
       "        vertical-align: top;\n",
       "    }\n",
       "\n",
       "    .dataframe thead th {\n",
       "        text-align: right;\n",
       "    }\n",
       "</style>\n",
       "<table border=\"1\" class=\"dataframe\">\n",
       "  <thead>\n",
       "    <tr style=\"text-align: right;\">\n",
       "      <th></th>\n",
       "      <th>churches</th>\n",
       "      <th>resorts</th>\n",
       "      <th>beaches</th>\n",
       "      <th>parks</th>\n",
       "      <th>theatres</th>\n",
       "      <th>museums</th>\n",
       "      <th>malls</th>\n",
       "      <th>zoo</th>\n",
       "      <th>restaurants</th>\n",
       "      <th>pubs_bars</th>\n",
       "      <th>local_services</th>\n",
       "      <th>burger_pizza_shops</th>\n",
       "      <th>hotels_other_lodgings</th>\n",
       "      <th>juice_bars</th>\n",
       "      <th>art_galleries</th>\n",
       "      <th>dance_clubs</th>\n",
       "      <th>swimming_pools</th>\n",
       "      <th>gyms</th>\n",
       "      <th>bakeries</th>\n",
       "      <th>beauty_spas</th>\n",
       "      <th>cafes</th>\n",
       "      <th>view_points</th>\n",
       "      <th>monuments</th>\n",
       "      <th>gardens</th>\n",
       "    </tr>\n",
       "  </thead>\n",
       "  <tbody>\n",
       "    <tr>\n",
       "      <th>2712</th>\n",
       "      <td>1.71</td>\n",
       "      <td>1.68</td>\n",
       "      <td>1.46</td>\n",
       "      <td>1.13</td>\n",
       "      <td>1.12</td>\n",
       "      <td>1.15</td>\n",
       "      <td>1.26</td>\n",
       "      <td>1.17</td>\n",
       "      <td>1.59</td>\n",
       "      <td>0.85</td>\n",
       "      <td>2\\t2.</td>\n",
       "      <td>NaN</td>\n",
       "      <td>0.84</td>\n",
       "      <td>5.0</td>\n",
       "      <td>5.0</td>\n",
       "      <td>1.08</td>\n",
       "      <td>1.1</td>\n",
       "      <td>1.04</td>\n",
       "      <td>5.0</td>\n",
       "      <td>4.43</td>\n",
       "      <td>5.0</td>\n",
       "      <td>5.0</td>\n",
       "      <td>5.0</td>\n",
       "      <td>2.57</td>\n",
       "    </tr>\n",
       "  </tbody>\n",
       "</table>\n",
       "</div>"
      ],
      "text/plain": [
       "      churches  resorts  beaches  parks  theatres  museums  malls   zoo  \\\n",
       "2712      1.71     1.68     1.46   1.13      1.12     1.15   1.26  1.17   \n",
       "\n",
       "      restaurants  pubs_bars local_services  burger_pizza_shops  \\\n",
       "2712         1.59       0.85          2\\t2.                 NaN   \n",
       "\n",
       "      hotels_other_lodgings  juice_bars  art_galleries  dance_clubs  \\\n",
       "2712                   0.84         5.0            5.0         1.08   \n",
       "\n",
       "      swimming_pools  gyms  bakeries  beauty_spas  cafes  view_points  \\\n",
       "2712             1.1  1.04       5.0         4.43    5.0          5.0   \n",
       "\n",
       "      monuments  gardens  \n",
       "2712        5.0     2.57  "
      ]
     },
     "execution_count": 87,
     "metadata": {},
     "output_type": "execute_result"
    }
   ],
   "source": [
    "\n",
    "df[(df.local_services =='2\\t2.')]"
   ]
  },
  {
   "cell_type": "code",
   "execution_count": 88,
   "id": "0a561901",
   "metadata": {},
   "outputs": [],
   "source": [
    "df = df.drop(labels = 2712, axis = 0)"
   ]
  },
  {
   "cell_type": "code",
   "execution_count": 89,
   "id": "f82a0901",
   "metadata": {},
   "outputs": [],
   "source": [
    "df['local_services']= df.local_services.apply(float)"
   ]
  },
  {
   "cell_type": "markdown",
   "id": "78f1396a",
   "metadata": {},
   "source": [
    "###### we will check on nun value "
   ]
  },
  {
   "cell_type": "code",
   "execution_count": 90,
   "id": "25c8b471",
   "metadata": {},
   "outputs": [
    {
     "data": {
      "text/plain": [
       "churches                 0\n",
       "resorts                  0\n",
       "beaches                  0\n",
       "parks                    0\n",
       "theatres                 0\n",
       "museums                  0\n",
       "malls                    0\n",
       "zoo                      0\n",
       "restaurants              0\n",
       "pubs_bars                0\n",
       "local_services           0\n",
       "burger_pizza_shops       0\n",
       "hotels_other_lodgings    0\n",
       "juice_bars               0\n",
       "art_galleries            0\n",
       "dance_clubs              0\n",
       "swimming_pools           0\n",
       "gyms                     0\n",
       "bakeries                 0\n",
       "beauty_spas              0\n",
       "cafes                    0\n",
       "view_points              0\n",
       "monuments                0\n",
       "gardens                  1\n",
       "dtype: int64"
      ]
     },
     "execution_count": 90,
     "metadata": {},
     "output_type": "execute_result"
    }
   ],
   "source": [
    "\n",
    "\n",
    "df.isnull().sum()"
   ]
  },
  {
   "cell_type": "code",
   "execution_count": 91,
   "id": "0e5a0248",
   "metadata": {},
   "outputs": [],
   "source": [
    "df = df.dropna()"
   ]
  },
  {
   "cell_type": "code",
   "execution_count": 92,
   "id": "0a2f3aba",
   "metadata": {},
   "outputs": [
    {
     "name": "stdout",
     "output_type": "stream",
     "text": [
      "<class 'pandas.core.frame.DataFrame'>\n",
      "Int64Index: 5454 entries, 0 to 5455\n",
      "Data columns (total 24 columns):\n",
      " #   Column                 Non-Null Count  Dtype  \n",
      "---  ------                 --------------  -----  \n",
      " 0   churches               5454 non-null   float64\n",
      " 1   resorts                5454 non-null   float64\n",
      " 2   beaches                5454 non-null   float64\n",
      " 3   parks                  5454 non-null   float64\n",
      " 4   theatres               5454 non-null   float64\n",
      " 5   museums                5454 non-null   float64\n",
      " 6   malls                  5454 non-null   float64\n",
      " 7   zoo                    5454 non-null   float64\n",
      " 8   restaurants            5454 non-null   float64\n",
      " 9   pubs_bars              5454 non-null   float64\n",
      " 10  local_services         5454 non-null   float64\n",
      " 11  burger_pizza_shops     5454 non-null   float64\n",
      " 12  hotels_other_lodgings  5454 non-null   float64\n",
      " 13  juice_bars             5454 non-null   float64\n",
      " 14  art_galleries          5454 non-null   float64\n",
      " 15  dance_clubs            5454 non-null   float64\n",
      " 16  swimming_pools         5454 non-null   float64\n",
      " 17  gyms                   5454 non-null   float64\n",
      " 18  bakeries               5454 non-null   float64\n",
      " 19  beauty_spas            5454 non-null   float64\n",
      " 20  cafes                  5454 non-null   float64\n",
      " 21  view_points            5454 non-null   float64\n",
      " 22  monuments              5454 non-null   float64\n",
      " 23  gardens                5454 non-null   float64\n",
      "dtypes: float64(24)\n",
      "memory usage: 1.0 MB\n"
     ]
    }
   ],
   "source": [
    "df.info()"
   ]
  },
  {
   "cell_type": "markdown",
   "id": "0fa1de74",
   "metadata": {},
   "source": [
    "## now our data is ready to analysis "
   ]
  },
  {
   "cell_type": "markdown",
   "id": "b60f9677",
   "metadata": {},
   "source": [
    "# preprocessing phase "
   ]
  },
  {
   "cell_type": "raw",
   "id": "afba3e83",
   "metadata": {},
   "source": [
    "we need to show the ralation between features and rating so we should use plots  before that Let's check some of the descriptive statistics"
   ]
  },
  {
   "cell_type": "code",
   "execution_count": 93,
   "id": "60f91b33",
   "metadata": {},
   "outputs": [
    {
     "data": {
      "text/html": [
       "<div>\n",
       "<style scoped>\n",
       "    .dataframe tbody tr th:only-of-type {\n",
       "        vertical-align: middle;\n",
       "    }\n",
       "\n",
       "    .dataframe tbody tr th {\n",
       "        vertical-align: top;\n",
       "    }\n",
       "\n",
       "    .dataframe thead th {\n",
       "        text-align: right;\n",
       "    }\n",
       "</style>\n",
       "<table border=\"1\" class=\"dataframe\">\n",
       "  <thead>\n",
       "    <tr style=\"text-align: right;\">\n",
       "      <th></th>\n",
       "      <th>churches</th>\n",
       "      <th>resorts</th>\n",
       "      <th>beaches</th>\n",
       "      <th>parks</th>\n",
       "      <th>theatres</th>\n",
       "      <th>museums</th>\n",
       "      <th>malls</th>\n",
       "      <th>zoo</th>\n",
       "      <th>restaurants</th>\n",
       "      <th>pubs_bars</th>\n",
       "      <th>local_services</th>\n",
       "      <th>burger_pizza_shops</th>\n",
       "      <th>hotels_other_lodgings</th>\n",
       "      <th>juice_bars</th>\n",
       "      <th>art_galleries</th>\n",
       "      <th>dance_clubs</th>\n",
       "      <th>swimming_pools</th>\n",
       "      <th>gyms</th>\n",
       "      <th>bakeries</th>\n",
       "      <th>beauty_spas</th>\n",
       "      <th>cafes</th>\n",
       "      <th>view_points</th>\n",
       "      <th>monuments</th>\n",
       "      <th>gardens</th>\n",
       "    </tr>\n",
       "  </thead>\n",
       "  <tbody>\n",
       "    <tr>\n",
       "      <th>count</th>\n",
       "      <td>5454.000000</td>\n",
       "      <td>5454.000000</td>\n",
       "      <td>5454.000000</td>\n",
       "      <td>5454.000000</td>\n",
       "      <td>5454.000000</td>\n",
       "      <td>5454.000000</td>\n",
       "      <td>5454.000000</td>\n",
       "      <td>5454.000000</td>\n",
       "      <td>5454.000000</td>\n",
       "      <td>5454.000000</td>\n",
       "      <td>5454.000000</td>\n",
       "      <td>5454.000000</td>\n",
       "      <td>5454.000000</td>\n",
       "      <td>5454.000000</td>\n",
       "      <td>5454.000000</td>\n",
       "      <td>5454.000000</td>\n",
       "      <td>5454.000000</td>\n",
       "      <td>5454.000000</td>\n",
       "      <td>5454.000000</td>\n",
       "      <td>5454.000000</td>\n",
       "      <td>5454.000000</td>\n",
       "      <td>5454.000000</td>\n",
       "      <td>5454.000000</td>\n",
       "      <td>5454.000000</td>\n",
       "    </tr>\n",
       "    <tr>\n",
       "      <th>mean</th>\n",
       "      <td>1.455746</td>\n",
       "      <td>2.320048</td>\n",
       "      <td>2.489059</td>\n",
       "      <td>2.797103</td>\n",
       "      <td>2.958904</td>\n",
       "      <td>2.893423</td>\n",
       "      <td>3.351476</td>\n",
       "      <td>2.541177</td>\n",
       "      <td>3.126542</td>\n",
       "      <td>2.832695</td>\n",
       "      <td>2.549622</td>\n",
       "      <td>2.078401</td>\n",
       "      <td>2.125820</td>\n",
       "      <td>2.190429</td>\n",
       "      <td>2.206140</td>\n",
       "      <td>1.192710</td>\n",
       "      <td>0.949349</td>\n",
       "      <td>0.822525</td>\n",
       "      <td>0.969250</td>\n",
       "      <td>0.999626</td>\n",
       "      <td>0.965275</td>\n",
       "      <td>1.749345</td>\n",
       "      <td>1.531051</td>\n",
       "      <td>1.560570</td>\n",
       "    </tr>\n",
       "    <tr>\n",
       "      <th>std</th>\n",
       "      <td>0.827732</td>\n",
       "      <td>1.421576</td>\n",
       "      <td>1.247503</td>\n",
       "      <td>1.309188</td>\n",
       "      <td>1.338785</td>\n",
       "      <td>1.282101</td>\n",
       "      <td>1.413291</td>\n",
       "      <td>1.111398</td>\n",
       "      <td>1.356774</td>\n",
       "      <td>1.307299</td>\n",
       "      <td>1.381498</td>\n",
       "      <td>1.249315</td>\n",
       "      <td>1.406682</td>\n",
       "      <td>1.576505</td>\n",
       "      <td>1.715848</td>\n",
       "      <td>1.107176</td>\n",
       "      <td>0.973628</td>\n",
       "      <td>0.948015</td>\n",
       "      <td>1.202883</td>\n",
       "      <td>1.193129</td>\n",
       "      <td>0.928326</td>\n",
       "      <td>1.597816</td>\n",
       "      <td>1.316180</td>\n",
       "      <td>1.171784</td>\n",
       "    </tr>\n",
       "    <tr>\n",
       "      <th>min</th>\n",
       "      <td>0.000000</td>\n",
       "      <td>0.000000</td>\n",
       "      <td>0.000000</td>\n",
       "      <td>0.830000</td>\n",
       "      <td>1.120000</td>\n",
       "      <td>1.110000</td>\n",
       "      <td>1.120000</td>\n",
       "      <td>0.860000</td>\n",
       "      <td>0.840000</td>\n",
       "      <td>0.810000</td>\n",
       "      <td>0.780000</td>\n",
       "      <td>0.780000</td>\n",
       "      <td>0.770000</td>\n",
       "      <td>0.760000</td>\n",
       "      <td>0.000000</td>\n",
       "      <td>0.000000</td>\n",
       "      <td>0.000000</td>\n",
       "      <td>0.000000</td>\n",
       "      <td>0.000000</td>\n",
       "      <td>0.000000</td>\n",
       "      <td>0.000000</td>\n",
       "      <td>0.000000</td>\n",
       "      <td>0.000000</td>\n",
       "      <td>0.000000</td>\n",
       "    </tr>\n",
       "    <tr>\n",
       "      <th>25%</th>\n",
       "      <td>0.920000</td>\n",
       "      <td>1.360000</td>\n",
       "      <td>1.540000</td>\n",
       "      <td>1.730000</td>\n",
       "      <td>1.770000</td>\n",
       "      <td>1.790000</td>\n",
       "      <td>1.930000</td>\n",
       "      <td>1.620000</td>\n",
       "      <td>1.800000</td>\n",
       "      <td>1.640000</td>\n",
       "      <td>1.580000</td>\n",
       "      <td>1.290000</td>\n",
       "      <td>1.190000</td>\n",
       "      <td>1.030000</td>\n",
       "      <td>0.860000</td>\n",
       "      <td>0.690000</td>\n",
       "      <td>0.580000</td>\n",
       "      <td>0.530000</td>\n",
       "      <td>0.520000</td>\n",
       "      <td>0.540000</td>\n",
       "      <td>0.570000</td>\n",
       "      <td>0.740000</td>\n",
       "      <td>0.790000</td>\n",
       "      <td>0.880000</td>\n",
       "    </tr>\n",
       "    <tr>\n",
       "      <th>50%</th>\n",
       "      <td>1.340000</td>\n",
       "      <td>1.910000</td>\n",
       "      <td>2.060000</td>\n",
       "      <td>2.460000</td>\n",
       "      <td>2.670000</td>\n",
       "      <td>2.680000</td>\n",
       "      <td>3.230000</td>\n",
       "      <td>2.170000</td>\n",
       "      <td>2.800000</td>\n",
       "      <td>2.680000</td>\n",
       "      <td>2.000000</td>\n",
       "      <td>1.690000</td>\n",
       "      <td>1.610000</td>\n",
       "      <td>1.490000</td>\n",
       "      <td>1.330000</td>\n",
       "      <td>0.800000</td>\n",
       "      <td>0.740000</td>\n",
       "      <td>0.690000</td>\n",
       "      <td>0.690000</td>\n",
       "      <td>0.690000</td>\n",
       "      <td>0.760000</td>\n",
       "      <td>1.030000</td>\n",
       "      <td>1.070000</td>\n",
       "      <td>1.290000</td>\n",
       "    </tr>\n",
       "    <tr>\n",
       "      <th>75%</th>\n",
       "      <td>1.810000</td>\n",
       "      <td>2.687500</td>\n",
       "      <td>2.740000</td>\n",
       "      <td>4.097500</td>\n",
       "      <td>4.310000</td>\n",
       "      <td>3.837500</td>\n",
       "      <td>5.000000</td>\n",
       "      <td>3.190000</td>\n",
       "      <td>5.000000</td>\n",
       "      <td>3.527500</td>\n",
       "      <td>3.217500</td>\n",
       "      <td>2.287500</td>\n",
       "      <td>2.360000</td>\n",
       "      <td>2.740000</td>\n",
       "      <td>4.440000</td>\n",
       "      <td>1.160000</td>\n",
       "      <td>0.910000</td>\n",
       "      <td>0.840000</td>\n",
       "      <td>0.860000</td>\n",
       "      <td>0.860000</td>\n",
       "      <td>1.000000</td>\n",
       "      <td>2.070000</td>\n",
       "      <td>1.560000</td>\n",
       "      <td>1.660000</td>\n",
       "    </tr>\n",
       "    <tr>\n",
       "      <th>max</th>\n",
       "      <td>5.000000</td>\n",
       "      <td>5.000000</td>\n",
       "      <td>5.000000</td>\n",
       "      <td>5.000000</td>\n",
       "      <td>5.000000</td>\n",
       "      <td>5.000000</td>\n",
       "      <td>5.000000</td>\n",
       "      <td>5.000000</td>\n",
       "      <td>5.000000</td>\n",
       "      <td>5.000000</td>\n",
       "      <td>5.000000</td>\n",
       "      <td>5.000000</td>\n",
       "      <td>5.000000</td>\n",
       "      <td>5.000000</td>\n",
       "      <td>5.000000</td>\n",
       "      <td>5.000000</td>\n",
       "      <td>5.000000</td>\n",
       "      <td>5.000000</td>\n",
       "      <td>5.000000</td>\n",
       "      <td>5.000000</td>\n",
       "      <td>5.000000</td>\n",
       "      <td>5.000000</td>\n",
       "      <td>5.000000</td>\n",
       "      <td>5.000000</td>\n",
       "    </tr>\n",
       "  </tbody>\n",
       "</table>\n",
       "</div>"
      ],
      "text/plain": [
       "          churches      resorts      beaches        parks     theatres  \\\n",
       "count  5454.000000  5454.000000  5454.000000  5454.000000  5454.000000   \n",
       "mean      1.455746     2.320048     2.489059     2.797103     2.958904   \n",
       "std       0.827732     1.421576     1.247503     1.309188     1.338785   \n",
       "min       0.000000     0.000000     0.000000     0.830000     1.120000   \n",
       "25%       0.920000     1.360000     1.540000     1.730000     1.770000   \n",
       "50%       1.340000     1.910000     2.060000     2.460000     2.670000   \n",
       "75%       1.810000     2.687500     2.740000     4.097500     4.310000   \n",
       "max       5.000000     5.000000     5.000000     5.000000     5.000000   \n",
       "\n",
       "           museums        malls          zoo  restaurants    pubs_bars  \\\n",
       "count  5454.000000  5454.000000  5454.000000  5454.000000  5454.000000   \n",
       "mean      2.893423     3.351476     2.541177     3.126542     2.832695   \n",
       "std       1.282101     1.413291     1.111398     1.356774     1.307299   \n",
       "min       1.110000     1.120000     0.860000     0.840000     0.810000   \n",
       "25%       1.790000     1.930000     1.620000     1.800000     1.640000   \n",
       "50%       2.680000     3.230000     2.170000     2.800000     2.680000   \n",
       "75%       3.837500     5.000000     3.190000     5.000000     3.527500   \n",
       "max       5.000000     5.000000     5.000000     5.000000     5.000000   \n",
       "\n",
       "       local_services  burger_pizza_shops  hotels_other_lodgings   juice_bars  \\\n",
       "count     5454.000000         5454.000000            5454.000000  5454.000000   \n",
       "mean         2.549622            2.078401               2.125820     2.190429   \n",
       "std          1.381498            1.249315               1.406682     1.576505   \n",
       "min          0.780000            0.780000               0.770000     0.760000   \n",
       "25%          1.580000            1.290000               1.190000     1.030000   \n",
       "50%          2.000000            1.690000               1.610000     1.490000   \n",
       "75%          3.217500            2.287500               2.360000     2.740000   \n",
       "max          5.000000            5.000000               5.000000     5.000000   \n",
       "\n",
       "       art_galleries  dance_clubs  swimming_pools         gyms     bakeries  \\\n",
       "count    5454.000000  5454.000000     5454.000000  5454.000000  5454.000000   \n",
       "mean        2.206140     1.192710        0.949349     0.822525     0.969250   \n",
       "std         1.715848     1.107176        0.973628     0.948015     1.202883   \n",
       "min         0.000000     0.000000        0.000000     0.000000     0.000000   \n",
       "25%         0.860000     0.690000        0.580000     0.530000     0.520000   \n",
       "50%         1.330000     0.800000        0.740000     0.690000     0.690000   \n",
       "75%         4.440000     1.160000        0.910000     0.840000     0.860000   \n",
       "max         5.000000     5.000000        5.000000     5.000000     5.000000   \n",
       "\n",
       "       beauty_spas        cafes  view_points    monuments      gardens  \n",
       "count  5454.000000  5454.000000  5454.000000  5454.000000  5454.000000  \n",
       "mean      0.999626     0.965275     1.749345     1.531051     1.560570  \n",
       "std       1.193129     0.928326     1.597816     1.316180     1.171784  \n",
       "min       0.000000     0.000000     0.000000     0.000000     0.000000  \n",
       "25%       0.540000     0.570000     0.740000     0.790000     0.880000  \n",
       "50%       0.690000     0.760000     1.030000     1.070000     1.290000  \n",
       "75%       0.860000     1.000000     2.070000     1.560000     1.660000  \n",
       "max       5.000000     5.000000     5.000000     5.000000     5.000000  "
      ]
     },
     "execution_count": 93,
     "metadata": {},
     "output_type": "execute_result"
    }
   ],
   "source": [
    "pd.set_option('display.max_columns', 30)\n",
    "df.describe()"
   ]
  },
  {
   "cell_type": "code",
   "execution_count": 94,
   "id": "be109a9c",
   "metadata": {},
   "outputs": [
    {
     "data": {
      "application/vnd.plotly.v1+json": {
       "config": {
        "plotlyServerURL": "https://plot.ly"
       },
       "data": [
        {
         "alignmentgroup": "True",
         "hovertemplate": "x=%{x}<br>y=%{y}<br>color=%{marker.color}<extra></extra>",
         "legendgroup": "",
         "marker": {
          "color": [
           4409,
           4438,
           4559,
           4851,
           4976,
           5109,
           5152,
           5229,
           5259,
           5342,
           5364,
           5450,
           5450,
           5454,
           5454,
           5454,
           5454,
           5454,
           5454,
           5454,
           5454,
           5454,
           5454,
           5454
          ],
          "coloraxis": "coloraxis",
          "pattern": {
           "shape": ""
          }
         },
         "name": "",
         "offsetgroup": "",
         "orientation": "h",
         "showlegend": false,
         "textposition": "auto",
         "type": "bar",
         "x": [
          4409,
          4438,
          4559,
          4851,
          4976,
          5109,
          5152,
          5229,
          5259,
          5342,
          5364,
          5450,
          5450,
          5454,
          5454,
          5454,
          5454,
          5454,
          5454,
          5454,
          5454,
          5454,
          5454,
          5454
         ],
         "xaxis": "x",
         "y": [
          "bakeries",
          "gyms",
          "beauty_spas",
          "cafes",
          "swimming_pools",
          "view_points",
          "monuments",
          "gardens",
          "churches",
          "dance_clubs",
          "resorts",
          "art_galleries",
          "beaches",
          "pubs_bars",
          "local_services",
          "zoo",
          "hotels_other_lodgings",
          "juice_bars",
          "malls",
          "museums",
          "theatres",
          "parks",
          "restaurants",
          "burger_pizza_shops"
         ],
         "yaxis": "y"
        }
       ],
       "layout": {
        "barmode": "relative",
        "coloraxis": {
         "colorbar": {
          "title": {
           "text": "color"
          }
         },
         "colorscale": [
          [
           0,
           "#0d0887"
          ],
          [
           0.1111111111111111,
           "#46039f"
          ],
          [
           0.2222222222222222,
           "#7201a8"
          ],
          [
           0.3333333333333333,
           "#9c179e"
          ],
          [
           0.4444444444444444,
           "#bd3786"
          ],
          [
           0.5555555555555556,
           "#d8576b"
          ],
          [
           0.6666666666666666,
           "#ed7953"
          ],
          [
           0.7777777777777778,
           "#fb9f3a"
          ],
          [
           0.8888888888888888,
           "#fdca26"
          ],
          [
           1,
           "#f0f921"
          ]
         ]
        },
        "height": 600,
        "legend": {
         "tracegroupgap": 0
        },
        "template": {
         "data": {
          "bar": [
           {
            "error_x": {
             "color": "#2a3f5f"
            },
            "error_y": {
             "color": "#2a3f5f"
            },
            "marker": {
             "line": {
              "color": "#E5ECF6",
              "width": 0.5
             },
             "pattern": {
              "fillmode": "overlay",
              "size": 10,
              "solidity": 0.2
             }
            },
            "type": "bar"
           }
          ],
          "barpolar": [
           {
            "marker": {
             "line": {
              "color": "#E5ECF6",
              "width": 0.5
             },
             "pattern": {
              "fillmode": "overlay",
              "size": 10,
              "solidity": 0.2
             }
            },
            "type": "barpolar"
           }
          ],
          "carpet": [
           {
            "aaxis": {
             "endlinecolor": "#2a3f5f",
             "gridcolor": "white",
             "linecolor": "white",
             "minorgridcolor": "white",
             "startlinecolor": "#2a3f5f"
            },
            "baxis": {
             "endlinecolor": "#2a3f5f",
             "gridcolor": "white",
             "linecolor": "white",
             "minorgridcolor": "white",
             "startlinecolor": "#2a3f5f"
            },
            "type": "carpet"
           }
          ],
          "choropleth": [
           {
            "colorbar": {
             "outlinewidth": 0,
             "ticks": ""
            },
            "type": "choropleth"
           }
          ],
          "contour": [
           {
            "colorbar": {
             "outlinewidth": 0,
             "ticks": ""
            },
            "colorscale": [
             [
              0,
              "#0d0887"
             ],
             [
              0.1111111111111111,
              "#46039f"
             ],
             [
              0.2222222222222222,
              "#7201a8"
             ],
             [
              0.3333333333333333,
              "#9c179e"
             ],
             [
              0.4444444444444444,
              "#bd3786"
             ],
             [
              0.5555555555555556,
              "#d8576b"
             ],
             [
              0.6666666666666666,
              "#ed7953"
             ],
             [
              0.7777777777777778,
              "#fb9f3a"
             ],
             [
              0.8888888888888888,
              "#fdca26"
             ],
             [
              1,
              "#f0f921"
             ]
            ],
            "type": "contour"
           }
          ],
          "contourcarpet": [
           {
            "colorbar": {
             "outlinewidth": 0,
             "ticks": ""
            },
            "type": "contourcarpet"
           }
          ],
          "heatmap": [
           {
            "colorbar": {
             "outlinewidth": 0,
             "ticks": ""
            },
            "colorscale": [
             [
              0,
              "#0d0887"
             ],
             [
              0.1111111111111111,
              "#46039f"
             ],
             [
              0.2222222222222222,
              "#7201a8"
             ],
             [
              0.3333333333333333,
              "#9c179e"
             ],
             [
              0.4444444444444444,
              "#bd3786"
             ],
             [
              0.5555555555555556,
              "#d8576b"
             ],
             [
              0.6666666666666666,
              "#ed7953"
             ],
             [
              0.7777777777777778,
              "#fb9f3a"
             ],
             [
              0.8888888888888888,
              "#fdca26"
             ],
             [
              1,
              "#f0f921"
             ]
            ],
            "type": "heatmap"
           }
          ],
          "heatmapgl": [
           {
            "colorbar": {
             "outlinewidth": 0,
             "ticks": ""
            },
            "colorscale": [
             [
              0,
              "#0d0887"
             ],
             [
              0.1111111111111111,
              "#46039f"
             ],
             [
              0.2222222222222222,
              "#7201a8"
             ],
             [
              0.3333333333333333,
              "#9c179e"
             ],
             [
              0.4444444444444444,
              "#bd3786"
             ],
             [
              0.5555555555555556,
              "#d8576b"
             ],
             [
              0.6666666666666666,
              "#ed7953"
             ],
             [
              0.7777777777777778,
              "#fb9f3a"
             ],
             [
              0.8888888888888888,
              "#fdca26"
             ],
             [
              1,
              "#f0f921"
             ]
            ],
            "type": "heatmapgl"
           }
          ],
          "histogram": [
           {
            "marker": {
             "pattern": {
              "fillmode": "overlay",
              "size": 10,
              "solidity": 0.2
             }
            },
            "type": "histogram"
           }
          ],
          "histogram2d": [
           {
            "colorbar": {
             "outlinewidth": 0,
             "ticks": ""
            },
            "colorscale": [
             [
              0,
              "#0d0887"
             ],
             [
              0.1111111111111111,
              "#46039f"
             ],
             [
              0.2222222222222222,
              "#7201a8"
             ],
             [
              0.3333333333333333,
              "#9c179e"
             ],
             [
              0.4444444444444444,
              "#bd3786"
             ],
             [
              0.5555555555555556,
              "#d8576b"
             ],
             [
              0.6666666666666666,
              "#ed7953"
             ],
             [
              0.7777777777777778,
              "#fb9f3a"
             ],
             [
              0.8888888888888888,
              "#fdca26"
             ],
             [
              1,
              "#f0f921"
             ]
            ],
            "type": "histogram2d"
           }
          ],
          "histogram2dcontour": [
           {
            "colorbar": {
             "outlinewidth": 0,
             "ticks": ""
            },
            "colorscale": [
             [
              0,
              "#0d0887"
             ],
             [
              0.1111111111111111,
              "#46039f"
             ],
             [
              0.2222222222222222,
              "#7201a8"
             ],
             [
              0.3333333333333333,
              "#9c179e"
             ],
             [
              0.4444444444444444,
              "#bd3786"
             ],
             [
              0.5555555555555556,
              "#d8576b"
             ],
             [
              0.6666666666666666,
              "#ed7953"
             ],
             [
              0.7777777777777778,
              "#fb9f3a"
             ],
             [
              0.8888888888888888,
              "#fdca26"
             ],
             [
              1,
              "#f0f921"
             ]
            ],
            "type": "histogram2dcontour"
           }
          ],
          "mesh3d": [
           {
            "colorbar": {
             "outlinewidth": 0,
             "ticks": ""
            },
            "type": "mesh3d"
           }
          ],
          "parcoords": [
           {
            "line": {
             "colorbar": {
              "outlinewidth": 0,
              "ticks": ""
             }
            },
            "type": "parcoords"
           }
          ],
          "pie": [
           {
            "automargin": true,
            "type": "pie"
           }
          ],
          "scatter": [
           {
            "marker": {
             "colorbar": {
              "outlinewidth": 0,
              "ticks": ""
             }
            },
            "type": "scatter"
           }
          ],
          "scatter3d": [
           {
            "line": {
             "colorbar": {
              "outlinewidth": 0,
              "ticks": ""
             }
            },
            "marker": {
             "colorbar": {
              "outlinewidth": 0,
              "ticks": ""
             }
            },
            "type": "scatter3d"
           }
          ],
          "scattercarpet": [
           {
            "marker": {
             "colorbar": {
              "outlinewidth": 0,
              "ticks": ""
             }
            },
            "type": "scattercarpet"
           }
          ],
          "scattergeo": [
           {
            "marker": {
             "colorbar": {
              "outlinewidth": 0,
              "ticks": ""
             }
            },
            "type": "scattergeo"
           }
          ],
          "scattergl": [
           {
            "marker": {
             "colorbar": {
              "outlinewidth": 0,
              "ticks": ""
             }
            },
            "type": "scattergl"
           }
          ],
          "scattermapbox": [
           {
            "marker": {
             "colorbar": {
              "outlinewidth": 0,
              "ticks": ""
             }
            },
            "type": "scattermapbox"
           }
          ],
          "scatterpolar": [
           {
            "marker": {
             "colorbar": {
              "outlinewidth": 0,
              "ticks": ""
             }
            },
            "type": "scatterpolar"
           }
          ],
          "scatterpolargl": [
           {
            "marker": {
             "colorbar": {
              "outlinewidth": 0,
              "ticks": ""
             }
            },
            "type": "scatterpolargl"
           }
          ],
          "scatterternary": [
           {
            "marker": {
             "colorbar": {
              "outlinewidth": 0,
              "ticks": ""
             }
            },
            "type": "scatterternary"
           }
          ],
          "surface": [
           {
            "colorbar": {
             "outlinewidth": 0,
             "ticks": ""
            },
            "colorscale": [
             [
              0,
              "#0d0887"
             ],
             [
              0.1111111111111111,
              "#46039f"
             ],
             [
              0.2222222222222222,
              "#7201a8"
             ],
             [
              0.3333333333333333,
              "#9c179e"
             ],
             [
              0.4444444444444444,
              "#bd3786"
             ],
             [
              0.5555555555555556,
              "#d8576b"
             ],
             [
              0.6666666666666666,
              "#ed7953"
             ],
             [
              0.7777777777777778,
              "#fb9f3a"
             ],
             [
              0.8888888888888888,
              "#fdca26"
             ],
             [
              1,
              "#f0f921"
             ]
            ],
            "type": "surface"
           }
          ],
          "table": [
           {
            "cells": {
             "fill": {
              "color": "#EBF0F8"
             },
             "line": {
              "color": "white"
             }
            },
            "header": {
             "fill": {
              "color": "#C8D4E3"
             },
             "line": {
              "color": "white"
             }
            },
            "type": "table"
           }
          ]
         },
         "layout": {
          "annotationdefaults": {
           "arrowcolor": "#2a3f5f",
           "arrowhead": 0,
           "arrowwidth": 1
          },
          "autotypenumbers": "strict",
          "coloraxis": {
           "colorbar": {
            "outlinewidth": 0,
            "ticks": ""
           }
          },
          "colorscale": {
           "diverging": [
            [
             0,
             "#8e0152"
            ],
            [
             0.1,
             "#c51b7d"
            ],
            [
             0.2,
             "#de77ae"
            ],
            [
             0.3,
             "#f1b6da"
            ],
            [
             0.4,
             "#fde0ef"
            ],
            [
             0.5,
             "#f7f7f7"
            ],
            [
             0.6,
             "#e6f5d0"
            ],
            [
             0.7,
             "#b8e186"
            ],
            [
             0.8,
             "#7fbc41"
            ],
            [
             0.9,
             "#4d9221"
            ],
            [
             1,
             "#276419"
            ]
           ],
           "sequential": [
            [
             0,
             "#0d0887"
            ],
            [
             0.1111111111111111,
             "#46039f"
            ],
            [
             0.2222222222222222,
             "#7201a8"
            ],
            [
             0.3333333333333333,
             "#9c179e"
            ],
            [
             0.4444444444444444,
             "#bd3786"
            ],
            [
             0.5555555555555556,
             "#d8576b"
            ],
            [
             0.6666666666666666,
             "#ed7953"
            ],
            [
             0.7777777777777778,
             "#fb9f3a"
            ],
            [
             0.8888888888888888,
             "#fdca26"
            ],
            [
             1,
             "#f0f921"
            ]
           ],
           "sequentialminus": [
            [
             0,
             "#0d0887"
            ],
            [
             0.1111111111111111,
             "#46039f"
            ],
            [
             0.2222222222222222,
             "#7201a8"
            ],
            [
             0.3333333333333333,
             "#9c179e"
            ],
            [
             0.4444444444444444,
             "#bd3786"
            ],
            [
             0.5555555555555556,
             "#d8576b"
            ],
            [
             0.6666666666666666,
             "#ed7953"
            ],
            [
             0.7777777777777778,
             "#fb9f3a"
            ],
            [
             0.8888888888888888,
             "#fdca26"
            ],
            [
             1,
             "#f0f921"
            ]
           ]
          },
          "colorway": [
           "#636efa",
           "#EF553B",
           "#00cc96",
           "#ab63fa",
           "#FFA15A",
           "#19d3f3",
           "#FF6692",
           "#B6E880",
           "#FF97FF",
           "#FECB52"
          ],
          "font": {
           "color": "#2a3f5f"
          },
          "geo": {
           "bgcolor": "white",
           "lakecolor": "white",
           "landcolor": "#E5ECF6",
           "showlakes": true,
           "showland": true,
           "subunitcolor": "white"
          },
          "hoverlabel": {
           "align": "left"
          },
          "hovermode": "closest",
          "mapbox": {
           "style": "light"
          },
          "paper_bgcolor": "white",
          "plot_bgcolor": "#E5ECF6",
          "polar": {
           "angularaxis": {
            "gridcolor": "white",
            "linecolor": "white",
            "ticks": ""
           },
           "bgcolor": "#E5ECF6",
           "radialaxis": {
            "gridcolor": "white",
            "linecolor": "white",
            "ticks": ""
           }
          },
          "scene": {
           "xaxis": {
            "backgroundcolor": "#E5ECF6",
            "gridcolor": "white",
            "gridwidth": 2,
            "linecolor": "white",
            "showbackground": true,
            "ticks": "",
            "zerolinecolor": "white"
           },
           "yaxis": {
            "backgroundcolor": "#E5ECF6",
            "gridcolor": "white",
            "gridwidth": 2,
            "linecolor": "white",
            "showbackground": true,
            "ticks": "",
            "zerolinecolor": "white"
           },
           "zaxis": {
            "backgroundcolor": "#E5ECF6",
            "gridcolor": "white",
            "gridwidth": 2,
            "linecolor": "white",
            "showbackground": true,
            "ticks": "",
            "zerolinecolor": "white"
           }
          },
          "shapedefaults": {
           "line": {
            "color": "#2a3f5f"
           }
          },
          "ternary": {
           "aaxis": {
            "gridcolor": "white",
            "linecolor": "white",
            "ticks": ""
           },
           "baxis": {
            "gridcolor": "white",
            "linecolor": "white",
            "ticks": ""
           },
           "bgcolor": "#E5ECF6",
           "caxis": {
            "gridcolor": "white",
            "linecolor": "white",
            "ticks": ""
           }
          },
          "title": {
           "x": 0.05
          },
          "xaxis": {
           "automargin": true,
           "gridcolor": "white",
           "linecolor": "white",
           "ticks": "",
           "title": {
            "standoff": 15
           },
           "zerolinecolor": "white",
           "zerolinewidth": 2
          },
          "yaxis": {
           "automargin": true,
           "gridcolor": "white",
           "linecolor": "white",
           "ticks": "",
           "title": {
            "standoff": 15
           },
           "zerolinecolor": "white",
           "zerolinewidth": 2
          }
         }
        },
        "title": {
         "text": "Number of reviews & category"
        },
        "xaxis": {
         "anchor": "y",
         "domain": [
          0,
          1
         ],
         "title": {
          "text": "x"
         }
        },
        "yaxis": {
         "anchor": "x",
         "domain": [
          0,
          1
         ],
         "title": {
          "text": "y"
         }
        }
       }
      },
      "text/html": [
       "<div>                            <div id=\"dff955b6-4f50-4289-ba41-f872d433d2a8\" class=\"plotly-graph-div\" style=\"height:600px; width:100%;\"></div>            <script type=\"text/javascript\">                require([\"plotly\"], function(Plotly) {                    window.PLOTLYENV=window.PLOTLYENV || {};                                    if (document.getElementById(\"dff955b6-4f50-4289-ba41-f872d433d2a8\")) {                    Plotly.newPlot(                        \"dff955b6-4f50-4289-ba41-f872d433d2a8\",                        [{\"alignmentgroup\":\"True\",\"hovertemplate\":\"x=%{x}<br>y=%{y}<br>color=%{marker.color}<extra></extra>\",\"legendgroup\":\"\",\"marker\":{\"color\":[4409,4438,4559,4851,4976,5109,5152,5229,5259,5342,5364,5450,5450,5454,5454,5454,5454,5454,5454,5454,5454,5454,5454,5454],\"coloraxis\":\"coloraxis\",\"pattern\":{\"shape\":\"\"}},\"name\":\"\",\"offsetgroup\":\"\",\"orientation\":\"h\",\"showlegend\":false,\"textposition\":\"auto\",\"type\":\"bar\",\"x\":[4409,4438,4559,4851,4976,5109,5152,5229,5259,5342,5364,5450,5450,5454,5454,5454,5454,5454,5454,5454,5454,5454,5454,5454],\"xaxis\":\"x\",\"y\":[\"bakeries\",\"gyms\",\"beauty_spas\",\"cafes\",\"swimming_pools\",\"view_points\",\"monuments\",\"gardens\",\"churches\",\"dance_clubs\",\"resorts\",\"art_galleries\",\"beaches\",\"pubs_bars\",\"local_services\",\"zoo\",\"hotels_other_lodgings\",\"juice_bars\",\"malls\",\"museums\",\"theatres\",\"parks\",\"restaurants\",\"burger_pizza_shops\"],\"yaxis\":\"y\"}],                        {\"barmode\":\"relative\",\"coloraxis\":{\"colorbar\":{\"title\":{\"text\":\"color\"}},\"colorscale\":[[0.0,\"#0d0887\"],[0.1111111111111111,\"#46039f\"],[0.2222222222222222,\"#7201a8\"],[0.3333333333333333,\"#9c179e\"],[0.4444444444444444,\"#bd3786\"],[0.5555555555555556,\"#d8576b\"],[0.6666666666666666,\"#ed7953\"],[0.7777777777777778,\"#fb9f3a\"],[0.8888888888888888,\"#fdca26\"],[1.0,\"#f0f921\"]]},\"height\":600,\"legend\":{\"tracegroupgap\":0},\"template\":{\"data\":{\"bar\":[{\"error_x\":{\"color\":\"#2a3f5f\"},\"error_y\":{\"color\":\"#2a3f5f\"},\"marker\":{\"line\":{\"color\":\"#E5ECF6\",\"width\":0.5},\"pattern\":{\"fillmode\":\"overlay\",\"size\":10,\"solidity\":0.2}},\"type\":\"bar\"}],\"barpolar\":[{\"marker\":{\"line\":{\"color\":\"#E5ECF6\",\"width\":0.5},\"pattern\":{\"fillmode\":\"overlay\",\"size\":10,\"solidity\":0.2}},\"type\":\"barpolar\"}],\"carpet\":[{\"aaxis\":{\"endlinecolor\":\"#2a3f5f\",\"gridcolor\":\"white\",\"linecolor\":\"white\",\"minorgridcolor\":\"white\",\"startlinecolor\":\"#2a3f5f\"},\"baxis\":{\"endlinecolor\":\"#2a3f5f\",\"gridcolor\":\"white\",\"linecolor\":\"white\",\"minorgridcolor\":\"white\",\"startlinecolor\":\"#2a3f5f\"},\"type\":\"carpet\"}],\"choropleth\":[{\"colorbar\":{\"outlinewidth\":0,\"ticks\":\"\"},\"type\":\"choropleth\"}],\"contour\":[{\"colorbar\":{\"outlinewidth\":0,\"ticks\":\"\"},\"colorscale\":[[0.0,\"#0d0887\"],[0.1111111111111111,\"#46039f\"],[0.2222222222222222,\"#7201a8\"],[0.3333333333333333,\"#9c179e\"],[0.4444444444444444,\"#bd3786\"],[0.5555555555555556,\"#d8576b\"],[0.6666666666666666,\"#ed7953\"],[0.7777777777777778,\"#fb9f3a\"],[0.8888888888888888,\"#fdca26\"],[1.0,\"#f0f921\"]],\"type\":\"contour\"}],\"contourcarpet\":[{\"colorbar\":{\"outlinewidth\":0,\"ticks\":\"\"},\"type\":\"contourcarpet\"}],\"heatmap\":[{\"colorbar\":{\"outlinewidth\":0,\"ticks\":\"\"},\"colorscale\":[[0.0,\"#0d0887\"],[0.1111111111111111,\"#46039f\"],[0.2222222222222222,\"#7201a8\"],[0.3333333333333333,\"#9c179e\"],[0.4444444444444444,\"#bd3786\"],[0.5555555555555556,\"#d8576b\"],[0.6666666666666666,\"#ed7953\"],[0.7777777777777778,\"#fb9f3a\"],[0.8888888888888888,\"#fdca26\"],[1.0,\"#f0f921\"]],\"type\":\"heatmap\"}],\"heatmapgl\":[{\"colorbar\":{\"outlinewidth\":0,\"ticks\":\"\"},\"colorscale\":[[0.0,\"#0d0887\"],[0.1111111111111111,\"#46039f\"],[0.2222222222222222,\"#7201a8\"],[0.3333333333333333,\"#9c179e\"],[0.4444444444444444,\"#bd3786\"],[0.5555555555555556,\"#d8576b\"],[0.6666666666666666,\"#ed7953\"],[0.7777777777777778,\"#fb9f3a\"],[0.8888888888888888,\"#fdca26\"],[1.0,\"#f0f921\"]],\"type\":\"heatmapgl\"}],\"histogram\":[{\"marker\":{\"pattern\":{\"fillmode\":\"overlay\",\"size\":10,\"solidity\":0.2}},\"type\":\"histogram\"}],\"histogram2d\":[{\"colorbar\":{\"outlinewidth\":0,\"ticks\":\"\"},\"colorscale\":[[0.0,\"#0d0887\"],[0.1111111111111111,\"#46039f\"],[0.2222222222222222,\"#7201a8\"],[0.3333333333333333,\"#9c179e\"],[0.4444444444444444,\"#bd3786\"],[0.5555555555555556,\"#d8576b\"],[0.6666666666666666,\"#ed7953\"],[0.7777777777777778,\"#fb9f3a\"],[0.8888888888888888,\"#fdca26\"],[1.0,\"#f0f921\"]],\"type\":\"histogram2d\"}],\"histogram2dcontour\":[{\"colorbar\":{\"outlinewidth\":0,\"ticks\":\"\"},\"colorscale\":[[0.0,\"#0d0887\"],[0.1111111111111111,\"#46039f\"],[0.2222222222222222,\"#7201a8\"],[0.3333333333333333,\"#9c179e\"],[0.4444444444444444,\"#bd3786\"],[0.5555555555555556,\"#d8576b\"],[0.6666666666666666,\"#ed7953\"],[0.7777777777777778,\"#fb9f3a\"],[0.8888888888888888,\"#fdca26\"],[1.0,\"#f0f921\"]],\"type\":\"histogram2dcontour\"}],\"mesh3d\":[{\"colorbar\":{\"outlinewidth\":0,\"ticks\":\"\"},\"type\":\"mesh3d\"}],\"parcoords\":[{\"line\":{\"colorbar\":{\"outlinewidth\":0,\"ticks\":\"\"}},\"type\":\"parcoords\"}],\"pie\":[{\"automargin\":true,\"type\":\"pie\"}],\"scatter\":[{\"marker\":{\"colorbar\":{\"outlinewidth\":0,\"ticks\":\"\"}},\"type\":\"scatter\"}],\"scatter3d\":[{\"line\":{\"colorbar\":{\"outlinewidth\":0,\"ticks\":\"\"}},\"marker\":{\"colorbar\":{\"outlinewidth\":0,\"ticks\":\"\"}},\"type\":\"scatter3d\"}],\"scattercarpet\":[{\"marker\":{\"colorbar\":{\"outlinewidth\":0,\"ticks\":\"\"}},\"type\":\"scattercarpet\"}],\"scattergeo\":[{\"marker\":{\"colorbar\":{\"outlinewidth\":0,\"ticks\":\"\"}},\"type\":\"scattergeo\"}],\"scattergl\":[{\"marker\":{\"colorbar\":{\"outlinewidth\":0,\"ticks\":\"\"}},\"type\":\"scattergl\"}],\"scattermapbox\":[{\"marker\":{\"colorbar\":{\"outlinewidth\":0,\"ticks\":\"\"}},\"type\":\"scattermapbox\"}],\"scatterpolar\":[{\"marker\":{\"colorbar\":{\"outlinewidth\":0,\"ticks\":\"\"}},\"type\":\"scatterpolar\"}],\"scatterpolargl\":[{\"marker\":{\"colorbar\":{\"outlinewidth\":0,\"ticks\":\"\"}},\"type\":\"scatterpolargl\"}],\"scatterternary\":[{\"marker\":{\"colorbar\":{\"outlinewidth\":0,\"ticks\":\"\"}},\"type\":\"scatterternary\"}],\"surface\":[{\"colorbar\":{\"outlinewidth\":0,\"ticks\":\"\"},\"colorscale\":[[0.0,\"#0d0887\"],[0.1111111111111111,\"#46039f\"],[0.2222222222222222,\"#7201a8\"],[0.3333333333333333,\"#9c179e\"],[0.4444444444444444,\"#bd3786\"],[0.5555555555555556,\"#d8576b\"],[0.6666666666666666,\"#ed7953\"],[0.7777777777777778,\"#fb9f3a\"],[0.8888888888888888,\"#fdca26\"],[1.0,\"#f0f921\"]],\"type\":\"surface\"}],\"table\":[{\"cells\":{\"fill\":{\"color\":\"#EBF0F8\"},\"line\":{\"color\":\"white\"}},\"header\":{\"fill\":{\"color\":\"#C8D4E3\"},\"line\":{\"color\":\"white\"}},\"type\":\"table\"}]},\"layout\":{\"annotationdefaults\":{\"arrowcolor\":\"#2a3f5f\",\"arrowhead\":0,\"arrowwidth\":1},\"autotypenumbers\":\"strict\",\"coloraxis\":{\"colorbar\":{\"outlinewidth\":0,\"ticks\":\"\"}},\"colorscale\":{\"diverging\":[[0,\"#8e0152\"],[0.1,\"#c51b7d\"],[0.2,\"#de77ae\"],[0.3,\"#f1b6da\"],[0.4,\"#fde0ef\"],[0.5,\"#f7f7f7\"],[0.6,\"#e6f5d0\"],[0.7,\"#b8e186\"],[0.8,\"#7fbc41\"],[0.9,\"#4d9221\"],[1,\"#276419\"]],\"sequential\":[[0.0,\"#0d0887\"],[0.1111111111111111,\"#46039f\"],[0.2222222222222222,\"#7201a8\"],[0.3333333333333333,\"#9c179e\"],[0.4444444444444444,\"#bd3786\"],[0.5555555555555556,\"#d8576b\"],[0.6666666666666666,\"#ed7953\"],[0.7777777777777778,\"#fb9f3a\"],[0.8888888888888888,\"#fdca26\"],[1.0,\"#f0f921\"]],\"sequentialminus\":[[0.0,\"#0d0887\"],[0.1111111111111111,\"#46039f\"],[0.2222222222222222,\"#7201a8\"],[0.3333333333333333,\"#9c179e\"],[0.4444444444444444,\"#bd3786\"],[0.5555555555555556,\"#d8576b\"],[0.6666666666666666,\"#ed7953\"],[0.7777777777777778,\"#fb9f3a\"],[0.8888888888888888,\"#fdca26\"],[1.0,\"#f0f921\"]]},\"colorway\":[\"#636efa\",\"#EF553B\",\"#00cc96\",\"#ab63fa\",\"#FFA15A\",\"#19d3f3\",\"#FF6692\",\"#B6E880\",\"#FF97FF\",\"#FECB52\"],\"font\":{\"color\":\"#2a3f5f\"},\"geo\":{\"bgcolor\":\"white\",\"lakecolor\":\"white\",\"landcolor\":\"#E5ECF6\",\"showlakes\":true,\"showland\":true,\"subunitcolor\":\"white\"},\"hoverlabel\":{\"align\":\"left\"},\"hovermode\":\"closest\",\"mapbox\":{\"style\":\"light\"},\"paper_bgcolor\":\"white\",\"plot_bgcolor\":\"#E5ECF6\",\"polar\":{\"angularaxis\":{\"gridcolor\":\"white\",\"linecolor\":\"white\",\"ticks\":\"\"},\"bgcolor\":\"#E5ECF6\",\"radialaxis\":{\"gridcolor\":\"white\",\"linecolor\":\"white\",\"ticks\":\"\"}},\"scene\":{\"xaxis\":{\"backgroundcolor\":\"#E5ECF6\",\"gridcolor\":\"white\",\"gridwidth\":2,\"linecolor\":\"white\",\"showbackground\":true,\"ticks\":\"\",\"zerolinecolor\":\"white\"},\"yaxis\":{\"backgroundcolor\":\"#E5ECF6\",\"gridcolor\":\"white\",\"gridwidth\":2,\"linecolor\":\"white\",\"showbackground\":true,\"ticks\":\"\",\"zerolinecolor\":\"white\"},\"zaxis\":{\"backgroundcolor\":\"#E5ECF6\",\"gridcolor\":\"white\",\"gridwidth\":2,\"linecolor\":\"white\",\"showbackground\":true,\"ticks\":\"\",\"zerolinecolor\":\"white\"}},\"shapedefaults\":{\"line\":{\"color\":\"#2a3f5f\"}},\"ternary\":{\"aaxis\":{\"gridcolor\":\"white\",\"linecolor\":\"white\",\"ticks\":\"\"},\"baxis\":{\"gridcolor\":\"white\",\"linecolor\":\"white\",\"ticks\":\"\"},\"bgcolor\":\"#E5ECF6\",\"caxis\":{\"gridcolor\":\"white\",\"linecolor\":\"white\",\"ticks\":\"\"}},\"title\":{\"x\":0.05},\"xaxis\":{\"automargin\":true,\"gridcolor\":\"white\",\"linecolor\":\"white\",\"ticks\":\"\",\"title\":{\"standoff\":15},\"zerolinecolor\":\"white\",\"zerolinewidth\":2},\"yaxis\":{\"automargin\":true,\"gridcolor\":\"white\",\"linecolor\":\"white\",\"ticks\":\"\",\"title\":{\"standoff\":15},\"zerolinecolor\":\"white\",\"zerolinewidth\":2}}},\"title\":{\"text\":\"Number of reviews & category\"},\"xaxis\":{\"anchor\":\"y\",\"domain\":[0.0,1.0],\"title\":{\"text\":\"x\"}},\"yaxis\":{\"anchor\":\"x\",\"domain\":[0.0,1.0],\"title\":{\"text\":\"y\"}}},                        {\"responsive\": true}                    ).then(function(){\n",
       "                            \n",
       "var gd = document.getElementById('dff955b6-4f50-4289-ba41-f872d433d2a8');\n",
       "var x = new MutationObserver(function (mutations, observer) {{\n",
       "        var display = window.getComputedStyle(gd).display;\n",
       "        if (!display || display === 'none') {{\n",
       "            console.log([gd, 'removed!']);\n",
       "            Plotly.purge(gd);\n",
       "            observer.disconnect();\n",
       "        }}\n",
       "}});\n",
       "\n",
       "// Listen for the removal of the full notebook cells\n",
       "var notebookContainer = gd.closest('#notebook-container');\n",
       "if (notebookContainer) {{\n",
       "    x.observe(notebookContainer, {childList: true});\n",
       "}}\n",
       "\n",
       "// Listen for the clearing of the current output cell\n",
       "var outputEl = gd.closest('.output');\n",
       "if (outputEl) {{\n",
       "    x.observe(outputEl, {childList: true});\n",
       "}}\n",
       "\n",
       "                        })                };                });            </script>        </div>"
      ]
     },
     "metadata": {},
     "output_type": "display_data"
    }
   ],
   "source": [
    "import matplotlib.pyplot as plt\n",
    "import warnings\n",
    "%matplotlib inline\n",
    "import plotly.express as px\n",
    "\n",
    "# Plotting pretty figures and avoid blurry images\n",
    "%config InlineBackend.figure_format = 'retina'\n",
    "# Larger scale for plots in notebooks\n",
    "\n",
    "\n",
    "# Ignore warnings\n",
    "import warnings\n",
    "warnings.filterwarnings('ignore')\n",
    "\n",
    "# Enable multiple cell outputs\n",
    "from IPython.core.interactiveshell import InteractiveShell\n",
    "InteractiveShell.ast_node_interactivity = 'all'\n",
    "\n",
    "\n",
    "column_names = ['churches', 'resorts', 'beaches', 'parks', 'theatres', 'museums', 'malls', 'zoo',\n",
    "                'restaurants', 'pubs_bars', 'local_services',\n",
    "                'burger_pizza_shops', 'hotels_other_lodgings', 'juice_bars', \n",
    "                'art_galleries', 'dance_clubs', 'swimming_pools',\n",
    "                'gyms', 'bakeries', 'beauty_spas', 'cafes', 'view_points', 'monuments', 'gardens']\n",
    "\n",
    "\n",
    "\n",
    "counts = df[column_names[:]].astype(bool).sum(axis=0).sort_values()\n",
    "\n",
    "test = []\n",
    "for i in range(len(counts.index)):\n",
    "    test.append(counts.index[i])\n",
    "    \n",
    "\n",
    "\n",
    "\n",
    "fig = px.bar(counts, \n",
    "             x=counts, \n",
    "             y=test,\n",
    "             color=counts,\n",
    "                             labels={\n",
    "                     \"total ratings\": \"Number of reviews\",\n",
    "                     \"categories\": \"this is category\"\n",
    "                 },\n",
    "                height = 600,\n",
    "                title=\"Number of reviews & category\")\n",
    "\n",
    "fig.show()"
   ]
  },
  {
   "cell_type": "raw",
   "id": "ba483e85",
   "metadata": {},
   "source": [
    "# As we see, bakerie, gyms and beauty spas are the places where users show didnt care about rating them. Let's see how many reviews were given for each category."
   ]
  },
  {
   "cell_type": "code",
   "execution_count": 95,
   "id": "96148bfd",
   "metadata": {},
   "outputs": [
    {
     "data": {
      "text/plain": [
       "Text(0.5, 0, 'Features')"
      ]
     },
     "execution_count": 95,
     "metadata": {},
     "output_type": "execute_result"
    },
    {
     "data": {
      "text/plain": [
       "Text(0, 0.5, 'Rating')"
      ]
     },
     "execution_count": 95,
     "metadata": {},
     "output_type": "execute_result"
    },
    {
     "data": {
      "text/plain": [
       "Text(0.5, 1.0, 'Features Box-Plot')"
      ]
     },
     "execution_count": 95,
     "metadata": {},
     "output_type": "execute_result"
    },
    {
     "data": {
      "text/plain": [
       "(array([ 0,  1,  2,  3,  4,  5,  6,  7,  8,  9, 10, 11, 12, 13, 14, 15, 16,\n",
       "        17, 18, 19, 20, 21, 22, 23]),\n",
       " [Text(0, 0, 'churches'),\n",
       "  Text(1, 0, 'resorts'),\n",
       "  Text(2, 0, 'beaches'),\n",
       "  Text(3, 0, 'parks'),\n",
       "  Text(4, 0, 'theatres'),\n",
       "  Text(5, 0, 'museums'),\n",
       "  Text(6, 0, 'malls'),\n",
       "  Text(7, 0, 'zoo'),\n",
       "  Text(8, 0, 'restaurants'),\n",
       "  Text(9, 0, 'pubs_bars'),\n",
       "  Text(10, 0, 'local_services'),\n",
       "  Text(11, 0, 'burger_pizza_shops'),\n",
       "  Text(12, 0, 'hotels_other_lodgings'),\n",
       "  Text(13, 0, 'juice_bars'),\n",
       "  Text(14, 0, 'art_galleries'),\n",
       "  Text(15, 0, 'dance_clubs'),\n",
       "  Text(16, 0, 'swimming_pools'),\n",
       "  Text(17, 0, 'gyms'),\n",
       "  Text(18, 0, 'bakeries'),\n",
       "  Text(19, 0, 'beauty_spas'),\n",
       "  Text(20, 0, 'cafes'),\n",
       "  Text(21, 0, 'view_points'),\n",
       "  Text(22, 0, 'monuments'),\n",
       "  Text(23, 0, 'gardens')])"
      ]
     },
     "execution_count": 95,
     "metadata": {},
     "output_type": "execute_result"
    },
    {
     "data": {
      "image/png": "[encoded data removed]",
      "text/plain": [
       "<Figure size 432x288 with 1 Axes>"
      ]
     },
     "metadata": {
      "image/png": {
       "height": 355,
       "width": 400
      },
      "needs_background": "light"
     },
     "output_type": "display_data"
    }
   ],
   "source": [
    "# boxplot = plt.subplots(figsize=(25, 9))\n",
    "\n",
    "boxplot = sns.boxplot(data= df, palette=\"Purples\")\n",
    "\n",
    "sns.despine()\n",
    "boxplot.set_xlabel('Features', fontsize = 10)\n",
    "boxplot.set_ylabel('Rating', fontsize = 20)\n",
    "boxplot.set_title('Features Box-Plot', fontsize = 15)\n",
    "\n",
    "plt.xticks(rotation= 35)\n",
    "plt.show()"
   ]
  },
  {
   "cell_type": "markdown",
   "id": "a2c3f1c1",
   "metadata": {},
   "source": [
    "\n",
    "As we can see there are a lot of outliers in some features. "
   ]
  },
  {
   "cell_type": "code",
   "execution_count": null,
   "id": "4287c6bf",
   "metadata": {},
   "outputs": [],
   "source": [
    "\n",
    "plt.figure(figsize=(15,10))\n",
    "cor = df.corr() #Calculate the correlation of the above variables\n",
    "sns.heatmap(cor, square = True) #Plot the correlation as heat map"
   ]
  },
  {
   "cell_type": "markdown",
   "id": "2c68a114",
   "metadata": {},
   "source": [
    "Here we can observe that our data is  divided into groups. Unfortunately, this is shown to be too fragmented, but with this we will deal with this, finding the optimal number of necessary clusters."
   ]
  },
  {
   "cell_type": "markdown",
   "id": "5fb91ebd",
   "metadata": {},
   "source": [
    "# show the relations between features"
   ]
  },
  {
   "cell_type": "markdown",
   "id": "d26c41e2",
   "metadata": {},
   "source": [
    "### to scaleing data in preprocessing phase we need to understand corelations between our categroies "
   ]
  },
  {
   "cell_type": "code",
   "execution_count": null,
   "id": "a60279b4",
   "metadata": {},
   "outputs": [],
   "source": [
    "for column in df.columns:\n",
    "    his = plt.subplots(figsize=(5, 3))\n",
    "    his = sns.histplot(x = column, data = df, color = sns.color_palette(\"Purples\",1))\n",
    "    plt.show()"
   ]
  },
  {
   "cell_type": "markdown",
   "id": "dd3e849f",
   "metadata": {},
   "source": [
    "#### now we have a clear vision about our data ,these ghraphes  showed us how to prepare our data for aplying model. Some of these will require normalization"
   ]
  },
  {
   "cell_type": "code",
   "execution_count": null,
   "id": "8086340f",
   "metadata": {},
   "outputs": [],
   "source": [
    "df.shape"
   ]
  },
  {
   "cell_type": "code",
   "execution_count": null,
   "id": "5de6d94c",
   "metadata": {},
   "outputs": [],
   "source": [
    "df = df.drop_duplicates()"
   ]
  },
  {
   "cell_type": "code",
   "execution_count": null,
   "id": "7ea5a256",
   "metadata": {},
   "outputs": [],
   "source": [
    "df.shape"
   ]
  },
  {
   "cell_type": "code",
   "execution_count": null,
   "id": "6872cef7",
   "metadata": {},
   "outputs": [],
   "source": []
  }
 ],
 "metadata": {
  "kernelspec": {
   "display_name": "Python 3",
   "language": "python",
   "name": "python3"
  },
  "language_info": {
   "codemirror_mode": {
    "name": "ipython",
    "version": 3
   },
   "file_extension": ".py",
   "mimetype": "text/x-python",
   "name": "python",
   "nbconvert_exporter": "python",
   "pygments_lexer": "ipython3",
   "version": "3.8.8"
  }
 },
 "nbformat": 4,
 "nbformat_minor": 5
}
